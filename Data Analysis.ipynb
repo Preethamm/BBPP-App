{
 "cells": [
  {
   "cell_type": "code",
   "execution_count": 1,
   "metadata": {
    "ExecuteTime": {
     "end_time": "2018-12-22T07:53:09.768258Z",
     "start_time": "2018-12-22T07:53:08.074725Z"
    }
   },
   "outputs": [],
   "source": [
    "import pandas as pd\n",
    "import numpy as np"
   ]
  },
  {
   "cell_type": "code",
   "execution_count": 3,
   "metadata": {
    "ExecuteTime": {
     "end_time": "2018-12-22T07:54:43.493234Z",
     "start_time": "2018-12-22T07:54:41.829731Z"
    }
   },
   "outputs": [],
   "source": [
    "test_df = pd.read_csv('../Price Predictor/forecasted_cpi.csv')"
   ]
  },
  {
   "cell_type": "code",
   "execution_count": 7,
   "metadata": {
    "ExecuteTime": {
     "end_time": "2018-12-22T07:55:50.148660Z",
     "start_time": "2018-12-22T07:55:49.795718Z"
    }
   },
   "outputs": [],
   "source": [
    "group_data = test_df.groupby('product_name').count()"
   ]
  },
  {
   "cell_type": "code",
   "execution_count": 12,
   "metadata": {
    "ExecuteTime": {
     "end_time": "2018-12-22T07:56:54.476324Z",
     "start_time": "2018-12-22T07:56:54.463289Z"
    }
   },
   "outputs": [
    {
     "data": {
      "text/plain": [
       "sku           1537\n",
       "L1            1537\n",
       "L2            1537\n",
       "L3            1537\n",
       "quantity      1537\n",
       "price         1537\n",
       "ds            1537\n",
       "yhat          1537\n",
       "yhat_lower    1537\n",
       "yhat_upper    1537\n",
       "dtype: int64"
      ]
     },
     "execution_count": 12,
     "metadata": {},
     "output_type": "execute_result"
    }
   ],
   "source": [
    "group_data[(group_data['sku'] > 30)].count()"
   ]
  },
  {
   "cell_type": "code",
   "execution_count": 35,
   "metadata": {
    "ExecuteTime": {
     "end_time": "2018-12-22T08:12:28.458410Z",
     "start_time": "2018-12-22T08:12:26.017309Z"
    }
   },
   "outputs": [],
   "source": [
    "final_df = test_df.groupby('product_name').filter(lambda x : len(x) == 30)"
   ]
  },
  {
   "cell_type": "code",
   "execution_count": 38,
   "metadata": {
    "ExecuteTime": {
     "end_time": "2018-12-22T08:12:54.512936Z",
     "start_time": "2018-12-22T08:12:54.481693Z"
    }
   },
   "outputs": [],
   "source": [
    "unique_list = final_df['sku'].unique()"
   ]
  },
  {
   "cell_type": "code",
   "execution_count": 41,
   "metadata": {
    "ExecuteTime": {
     "end_time": "2018-12-22T08:13:19.533990Z",
     "start_time": "2018-12-22T08:13:19.502976Z"
    }
   },
   "outputs": [
    {
     "data": {
      "text/plain": [
       "10751"
      ]
     },
     "execution_count": 41,
     "metadata": {},
     "output_type": "execute_result"
    }
   ],
   "source": [
    "len(unique_list)"
   ]
  },
  {
   "cell_type": "code",
   "execution_count": 43,
   "metadata": {
    "ExecuteTime": {
     "end_time": "2018-12-22T08:14:48.021289Z",
     "start_time": "2018-12-22T08:14:43.289812Z"
    }
   },
   "outputs": [],
   "source": [
    "export_csv = final_df.to_csv ('../Price Predictor/clean_forecasted_cpi.csv', index = None, header=True) "
   ]
  },
  {
   "cell_type": "code",
   "execution_count": null,
   "metadata": {},
   "outputs": [],
   "source": []
  }
 ],
 "metadata": {
  "kernelspec": {
   "display_name": "Python 3",
   "language": "python",
   "name": "python3"
  },
  "language_info": {
   "codemirror_mode": {
    "name": "ipython",
    "version": 3
   },
   "file_extension": ".py",
   "mimetype": "text/x-python",
   "name": "python",
   "nbconvert_exporter": "python",
   "pygments_lexer": "ipython3",
   "version": "3.6.5"
  }
 },
 "nbformat": 4,
 "nbformat_minor": 2
}
